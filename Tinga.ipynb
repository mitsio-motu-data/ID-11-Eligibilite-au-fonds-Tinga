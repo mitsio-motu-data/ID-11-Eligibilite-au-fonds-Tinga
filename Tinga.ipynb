{
 "cells": [
  {
   "cell_type": "code",
   "execution_count": 1,
   "metadata": {},
   "outputs": [
    {
     "name": "stderr",
     "output_type": "stream",
     "text": [
      "c:\\Users\\hp\\anaconda3\\envs\\mm\\lib\\site-packages\\geopandas\\_compat.py:111: UserWarning: The Shapely GEOS version (3.10.1-CAPI-1.16.0) is incompatible with the GEOS version PyGEOS was compiled with (3.10.3-CAPI-1.16.1). Conversions between both will be slow.\n",
      "  warnings.warn(\n"
     ]
    }
   ],
   "source": [
    "import geopandas as gpd\n",
    "import pandas as pd\n",
    "import matplotlib\n",
    "import os\n",
    "import numpy as np\n",
    "from shapely.geometry import Point\n",
    "import matplotlib.pyplot as plt"
   ]
  },
  {
   "cell_type": "markdown",
   "metadata": {},
   "source": [
    "# Import des données"
   ]
  },
  {
   "cell_type": "code",
   "execution_count": 2,
   "metadata": {},
   "outputs": [],
   "source": [
    "path_data = r\"C:\\Users\\hp\\Documents\\MITSIOMOTU\\Prise phase2\\2. Data\\1. Analyse cas d'usage\\MMRE\"\n",
    "\n",
    "## Import des données de la CEET\n",
    "# Réseaux et branchements BT\n",
    "support_bt_ceet = gpd.read_file(os.path.join(path_data,'MEN','MEN','BT_Support_20240102.shp'))\n",
    "support_bt_ceet = support_bt_ceet.to_crs(epsg='25231')\n",
    "ligne_bt_ceet = gpd.read_file(os.path.join(path_data,'MEN','MEN','BT_Troncon_20240102.shp'))\n",
    "ligne_bt_ceet = ligne_bt_ceet.to_crs(epsg='25231')\n",
    "branchements_bt_ceet = gpd.read_file(os.path.join(path_data,'MEN','MEN','branchement_copie.gpkg'))\n",
    "branchements_bt_ceet = branchements_bt_ceet.to_crs(epsg='25231')\n",
    "\n",
    "\n",
    "# Import des données de PRISE\n",
    "support_bt_prise = gpd.read_file(os.path.join(path_data,'ener_poteaux_bt.gpkg'))\n",
    "support_bt_prise = support_bt_prise.to_crs(epsg='25231')\n",
    "ligne_bt_prise = gpd.read_file(os.path.join(path_data,'ener_lignes_bt.gpkg'))\n",
    "ligne_bt_prise.to_crs(epsg='25231')\n",
    "\n",
    "# Import des limites administratives\n",
    "cantons = gpd.read_file(os.path.join(path_data,'14_11_22_Togo_Cantons2_4326.gpkg'))\n",
    "cantons = cantons.to_crs(epsg='25231')\n",
    "\n",
    "# Import des données de concessions\n",
    "concession_1 = gpd.read_file(os.path.join(path_data,'RGPH5_CARTO_Maritimes_Concessions1.gpkg'))\n",
    "concession_2 = gpd.read_file(os.path.join(path_data,'RGPH5_CARTO_DAGL_Concessions1.gpkg'))\n",
    "concession = pd.concat([concession_1 , concession_2]).reset_index()\n",
    "concession = concession.to_crs(epsg='25231')\n",
    "\n",
    "reg = 'Maritime'"
   ]
  },
  {
   "cell_type": "code",
   "execution_count": 3,
   "metadata": {},
   "outputs": [
    {
     "data": {
      "text/html": [
       "<div>\n",
       "<style scoped>\n",
       "    .dataframe tbody tr th:only-of-type {\n",
       "        vertical-align: middle;\n",
       "    }\n",
       "\n",
       "    .dataframe tbody tr th {\n",
       "        vertical-align: top;\n",
       "    }\n",
       "\n",
       "    .dataframe thead th {\n",
       "        text-align: right;\n",
       "    }\n",
       "</style>\n",
       "<table border=\"1\" class=\"dataframe\">\n",
       "  <thead>\n",
       "    <tr style=\"text-align: right;\">\n",
       "      <th></th>\n",
       "      <th>ID2</th>\n",
       "      <th>geometry</th>\n",
       "      <th>longueur2d</th>\n",
       "    </tr>\n",
       "  </thead>\n",
       "  <tbody>\n",
       "    <tr>\n",
       "      <th>0</th>\n",
       "      <td>2802309.0</td>\n",
       "      <td>POINT (309987.929 691254.796)</td>\n",
       "      <td>NaN</td>\n",
       "    </tr>\n",
       "    <tr>\n",
       "      <th>1</th>\n",
       "      <td>2942484.0</td>\n",
       "      <td>POINT (282766.282 692792.695)</td>\n",
       "      <td>NaN</td>\n",
       "    </tr>\n",
       "    <tr>\n",
       "      <th>2</th>\n",
       "      <td>2942485.0</td>\n",
       "      <td>POINT (282766.866 692793.228)</td>\n",
       "      <td>NaN</td>\n",
       "    </tr>\n",
       "    <tr>\n",
       "      <th>3</th>\n",
       "      <td>2942486.0</td>\n",
       "      <td>POINT (282767.315 692792.172)</td>\n",
       "      <td>NaN</td>\n",
       "    </tr>\n",
       "    <tr>\n",
       "      <th>4</th>\n",
       "      <td>2942487.0</td>\n",
       "      <td>POINT (282767.170 692792.410)</td>\n",
       "      <td>NaN</td>\n",
       "    </tr>\n",
       "    <tr>\n",
       "      <th>...</th>\n",
       "      <td>...</td>\n",
       "      <td>...</td>\n",
       "      <td>...</td>\n",
       "    </tr>\n",
       "    <tr>\n",
       "      <th>555703</th>\n",
       "      <td>NaN</td>\n",
       "      <td>POINT (235820.841 839525.639)</td>\n",
       "      <td>89.580126</td>\n",
       "    </tr>\n",
       "    <tr>\n",
       "      <th>555704</th>\n",
       "      <td>NaN</td>\n",
       "      <td>POINT (286052.254 823808.487)</td>\n",
       "      <td>15.073696</td>\n",
       "    </tr>\n",
       "    <tr>\n",
       "      <th>555705</th>\n",
       "      <td>NaN</td>\n",
       "      <td>POINT (297728.448 829494.336)</td>\n",
       "      <td>21.319825</td>\n",
       "    </tr>\n",
       "    <tr>\n",
       "      <th>555706</th>\n",
       "      <td>NaN</td>\n",
       "      <td>POINT (325586.351 819329.067)</td>\n",
       "      <td>3.646043</td>\n",
       "    </tr>\n",
       "    <tr>\n",
       "      <th>555707</th>\n",
       "      <td>NaN</td>\n",
       "      <td>POINT (325586.981 819325.103)</td>\n",
       "      <td>5.498164</td>\n",
       "    </tr>\n",
       "  </tbody>\n",
       "</table>\n",
       "<p>555708 rows × 3 columns</p>\n",
       "</div>"
      ],
      "text/plain": [
       "              ID2                       geometry  longueur2d\n",
       "0       2802309.0  POINT (309987.929 691254.796)         NaN\n",
       "1       2942484.0  POINT (282766.282 692792.695)         NaN\n",
       "2       2942485.0  POINT (282766.866 692793.228)         NaN\n",
       "3       2942486.0  POINT (282767.315 692792.172)         NaN\n",
       "4       2942487.0  POINT (282767.170 692792.410)         NaN\n",
       "...           ...                            ...         ...\n",
       "555703        NaN  POINT (235820.841 839525.639)   89.580126\n",
       "555704        NaN  POINT (286052.254 823808.487)   15.073696\n",
       "555705        NaN  POINT (297728.448 829494.336)   21.319825\n",
       "555706        NaN  POINT (325586.351 819329.067)    3.646043\n",
       "555707        NaN  POINT (325586.981 819325.103)    5.498164\n",
       "\n",
       "[555708 rows x 3 columns]"
      ]
     },
     "execution_count": 3,
     "metadata": {},
     "output_type": "execute_result"
    }
   ],
   "source": [
    "# Branchements manquants Maritime\n",
    "branchement_manquant_1 = gpd.read_file(os.path.join(path_data,'COMPLEMENT SHAPEFILES','Branchements_manquants.shp'))\n",
    "branchement_manquant_2 = gpd.read_file(os.path.join(path_data,'drive-download-20250207T112419Z-001','Branchements_manquants_Golfe_Agoe.shp'))\n",
    "branchement_manquant = pd.concat([branchement_manquant_1,branchement_manquant_2]).reset_index()\n",
    "branchement_manquant = branchement_manquant.to_crs(epsg='25231')\n",
    "\n",
    "# Convertir les lignes en points en prenant leur centroïde\n",
    "branchements_bt_ceet[\"geometry\"] = branchements_bt_ceet[\"geometry\"].centroid\n",
    "\n",
    "# Fusionner les GeoDataFrame\n",
    "branchements_agg = pd.concat([branchement_manquant[['ID2',\"geometry\"]], branchements_bt_ceet[['longueur2d',\"geometry\"]]], ignore_index=True)\n",
    "\n",
    "branchements_agg"
   ]
  },
  {
   "cell_type": "code",
   "execution_count": 4,
   "metadata": {},
   "outputs": [],
   "source": [
    "## Concaténation avec le réseau de Maritime\n",
    "# Lignes manquantes Maritim\n",
    "ligne_bt_manquant_1 = gpd.read_file(os.path.join(path_data,'COMPLEMENT SHAPEFILES','Reseau_BT_manquant.shp'))\n",
    "ligne_bt_manquant_2 = gpd.read_file(os.path.join(path_data,'drive-download-20250207T112419Z-001','bt_corriges_par_rapport_aux_branchements_manquants.gpkg'))\n",
    "ligne_bt_manquant = pd.concat([ligne_bt_manquant_1,ligne_bt_manquant_2]).reset_index()\n",
    "ligne_bt_manquant = ligne_bt_manquant.to_crs(epsg='25231')\n",
    "\n",
    "ligne_bt = pd.concat([ligne_bt_ceet,ligne_bt_manquant]).reset_index()\n",
    "\n"
   ]
  },
  {
   "cell_type": "markdown",
   "metadata": {},
   "source": [
    "Import des données des ménages"
   ]
  },
  {
   "cell_type": "code",
   "execution_count": 5,
   "metadata": {},
   "outputs": [
    {
     "name": "stderr",
     "output_type": "stream",
     "text": [
      "C:\\Users\\hp\\AppData\\Local\\Temp\\ipykernel_9440\\1592162409.py:3: DtypeWarning: Columns (9,11) have mixed types. Specify dtype option on import or set low_memory=False.\n",
      "  menage_2 = pd.read_csv(os.path.join(path_data,'Menages_DAGL_suite.csv'))\n"
     ]
    }
   ],
   "source": [
    "# Import des données des ménages\n",
    "menage_1 = pd.read_csv(os.path.join(path_data,'Menages_DAGL.csv'))\n",
    "menage_2 = pd.read_csv(os.path.join(path_data,'Menages_DAGL_suite.csv'))\n",
    "\n",
    "menage_agg = pd.concat([menage_1 , menage_2]).reset_index()\n",
    "\n",
    "# Créer des objets géométriques Point à partir des colonnes LONGITUDE et LATITUDE\n",
    "geometry = [Point(xy) for xy in zip(menage_agg['LONGITUDE'], menage_agg['LATITUDE'])]\n",
    "\n",
    "# Créer un GeoDataFrame avec le système de coordonnées initial (WGS84, EPSG:4326)\n",
    "gdf = gpd.GeoDataFrame(menage_agg, geometry=geometry, crs=\"EPSG:4326\")\n",
    "\n",
    "# Reprojeter le GeoDataFrame en EPSG:25231\n",
    "gdf = gdf.to_crs(epsg=25231)\n",
    "\n"
   ]
  },
  {
   "cell_type": "markdown",
   "metadata": {},
   "source": [
    "# Nettoyage des données"
   ]
  },
  {
   "cell_type": "code",
   "execution_count": null,
   "metadata": {},
   "outputs": [],
   "source": [
    "# Jointure des éléments avec les limites admin\n",
    "concessions_canton = gpd.sjoin_nearest(concession,cantons,how='inner',max_distance=5000)\n",
    "branchements_bt_ceet_canton = gpd.sjoin_nearest(branchements_agg,cantons,how='inner',max_distance=5000)\n",
    "menages_canton = gpd.sjoin_nearest(gdf,cantons,how='inner',max_distance=5000)\n",
    "\n",
    "poteaux_gdf = gpd.sjoin_nearest(support_bt_ceet,cantons,how='inner',max_distance=5000)\n",
    "lignes_bt_gdf = gpd.sjoin_nearest(ligne_bt,cantons,how='inner',max_distance=5000)"
   ]
  },
  {
   "cell_type": "code",
   "execution_count": 19,
   "metadata": {},
   "outputs": [],
   "source": [
    "# Filtrer les géométries nulles\n",
    "branchements_gdf = branchements_bt_ceet_canton[branchements_bt_ceet_canton.geometry.notnull()]\n",
    "branchements_gdf = branchements_gdf.drop(columns='index_right')\n",
    "\n",
    "poteaux_gdf = poteaux_gdf[poteaux_gdf.geometry.notnull()]\n",
    "lignes_bt_gdf = lignes_bt_gdf[lignes_bt_gdf.geometry.notnull()]\n",
    "lignes_bt_gdf = lignes_bt_gdf [lignes_bt_gdf.geometry.length  <= 5000 ]\n",
    "\n",
    "concession_gdf = concessions_canton[concessions_canton.geometry.notnull()]\n",
    "concession_gdf=concession_gdf.drop(columns='index_right')\n",
    "\n",
    "menage_gdf = menages_canton[menages_canton.geometry.notnull()]\n",
    "menage_gdf = menage_gdf.drop(columns='index_right')"
   ]
  },
  {
   "cell_type": "code",
   "execution_count": 20,
   "metadata": {},
   "outputs": [],
   "source": [
    "### Nettoyage des longueurs de branchemnts\n",
    "# Suppression des linéaires avec une longueur supérieure à 1000 mètres\n",
    "branchements_gdf = branchements_gdf[(branchements_gdf[\"longueur2d\"] <= 1000) | (branchements_gdf[\"longueur2d\"].isna())]"
   ]
  },
  {
   "cell_type": "markdown",
   "metadata": {},
   "source": [
    "Générer des concessions manquantes lorsque un ménage existe mais pas la concession"
   ]
  },
  {
   "cell_type": "code",
   "execution_count": 32,
   "metadata": {},
   "outputs": [
    {
     "name": "stderr",
     "output_type": "stream",
     "text": [
      "c:\\Users\\hp\\anaconda3\\envs\\mm\\lib\\site-packages\\pandas\\core\\dtypes\\cast.py:122: ShapelyDeprecationWarning: The array interface is deprecated and will no longer work in Shapely 2.0. Convert the '.coords' to a numpy array instead.\n",
      "  arr = construct_1d_object_array_from_listlike(values)\n",
      "c:\\Users\\hp\\anaconda3\\envs\\mm\\lib\\site-packages\\geopandas\\io\\file.py:362: FutureWarning: pandas.Int64Index is deprecated and will be removed from pandas in a future version. Use pandas.Index with the appropriate dtype instead.\n",
      "  pd.Int64Index,\n"
     ]
    }
   ],
   "source": [
    "# Créer des géométries pour les concessions associées aux ménages\n",
    "menage_gdf[\"geometry_concession\"] = menage_gdf.apply(\n",
    "    lambda row: Point(row[\"LONGITUDE_CONCESSION\"], row[\"LATITUDE_CONCESSION\"]),\n",
    "    axis=1,\n",
    ")\n",
    "\n",
    "# Convertir les géométries en GeoDataFrame\n",
    "concessions_menage_gdf= gpd.GeoDataFrame(menage_gdf[['ID_HHFtth','TAILLE_MENAGE','geometry_concession']], geometry=\"geometry_concession\", crs=\"EPSG:4326\")\n",
    "concessions_menage_gdf = concessions_menage_gdf.to_crs(epsg = '25231')\n",
    "\n",
    "# Appliquer un buffer de 1 mm \n",
    "buffer_size = 0.001  # En mètres \n",
    "\n",
    "# Effectuer la jointure spatiale (concessions les plus proches pour chaque ménage)\n",
    "joined = gpd.sjoin_nearest(\n",
    "    concessions_menage_gdf,\n",
    "    concession_gdf,\n",
    "    how=\"left\",\n",
    "    max_distance=buffer_size,\n",
    "    distance_col=\"distance_to_concession\"\n",
    ")\n",
    "\n",
    "# Identifier les ménages sans concessions associées dans la tolérance du buffer\n",
    "gdf_concessions_manquantes = joined[joined[\"distance_to_concession\"].isna()]\n",
    "\n",
    "col_concess_manquante = ['ID_HHFtth','TAILLE_MENAGE','geometry_concession']\n",
    "\n",
    "gdf_concessions_missing = gpd.sjoin(gdf_concessions_manquantes[col_concess_manquante],cantons, how='inner',predicate=\"intersects\")\n",
    "\n",
    "gdf_concessions_missing.to_file('concessions_manquantes_GL.gpkg', driver=\"GPKG\")\n",
    "\n"
   ]
  },
  {
   "cell_type": "markdown",
   "metadata": {},
   "source": [
    "# Cacul des résultats "
   ]
  },
  {
   "cell_type": "markdown",
   "metadata": {},
   "source": [
    "Buffer et extraction des données dans les zones tampon"
   ]
  },
  {
   "cell_type": "code",
   "execution_count": 13,
   "metadata": {},
   "outputs": [],
   "source": [
    "# Fonction pour créer des tampons fusionnés pour un GeoDataFrame donné\n",
    "\n",
    "def generate_and_merge_buffers(gdf, distances):\n",
    "    \"\"\"\n",
    "    Crée des tampons pour un GeoDataFrame et fusionne les géométries pour chaque distance.\n",
    "    \"\"\"\n",
    "    buffers = {distance: [] for distance in distances}\n",
    "    \n",
    "    for distance in distances:\n",
    "        # Créer une zone tampon\n",
    "        buffer = gdf.geometry.buffer(distance)\n",
    "        buffers[distance].append(buffer.unary_union)  # Fusion des géométries de ce lot\n",
    "\n",
    "    return buffers"
   ]
  },
  {
   "cell_type": "code",
   "execution_count": 14,
   "metadata": {},
   "outputs": [
    {
     "name": "stderr",
     "output_type": "stream",
     "text": [
      "c:\\Users\\hp\\anaconda3\\envs\\mm\\lib\\site-packages\\geopandas\\io\\file.py:362: FutureWarning: pandas.Int64Index is deprecated and will be removed from pandas in a future version. Use pandas.Index with the appropriate dtype instead.\n",
      "  pd.Int64Index,\n"
     ]
    }
   ],
   "source": [
    "# Définition des distances\n",
    "distances = [60, 70, 80]\n",
    "\n",
    "# Générer les tampons pour poteaux et lignes\n",
    "poteaux_buffers = generate_and_merge_buffers(poteaux_gdf, distances)\n",
    "lignes_buffers = generate_and_merge_buffers(lignes_bt_gdf, distances)\n",
    "\n",
    "# Fusionner les tampons poteaux et lignes pour chaque distance\n",
    "merged_buffers = []\n",
    "for distance in distances:\n",
    "    # Fusionner les buffers des poteaux et des lignes\n",
    "    merged_geom = gpd.GeoSeries([poteaux_buffers[distance][0], lignes_buffers[distance][0]]).unary_union\n",
    "    merged_buffers.append({\"geometry\": merged_geom, \"buffer_distance\": distance})\n",
    "\n",
    "# Création du GeoDataFrame final\n",
    "final_gdf = gpd.GeoDataFrame(merged_buffers, crs=poteaux_gdf.crs)\n",
    "\n",
    "# Sauvegarder les résultats dans un GeoPackage\n",
    "final_gdf.to_file(\"zones_tampon_2.gpkg\", driver=\"GPKG\", layer=\"buffers\")"
   ]
  },
  {
   "cell_type": "markdown",
   "metadata": {},
   "source": [
    "Extraction des données dans les zones tampons"
   ]
  },
  {
   "cell_type": "code",
   "execution_count": 16,
   "metadata": {},
   "outputs": [],
   "source": [
    "branchements_categori = gpd.read_file(os.path.join(path_data , 'script','branchements_categorises__.gpkg'),layer ='branchements' )"
   ]
  },
  {
   "cell_type": "code",
   "execution_count": 15,
   "metadata": {},
   "outputs": [],
   "source": [
    "gdf_concessions_missing = gpd.read_file(os.path.join(path_data,'script','concessions_manquantes_GL.gpkg'))\n",
    "gdf_concessions_missing = gdf_concessions_missing.to_crs(epsg='25231')\n",
    "\n",
    "combined_buffer = gpd.read_file(os.path.join(path_data,'script','zones_tampon_2.gpkg'))\n"
   ]
  },
  {
   "cell_type": "markdown",
   "metadata": {},
   "source": [
    "Comptage du nombre de concessions, du nombre de ménages et de branchements dans le buffer"
   ]
  },
  {
   "cell_type": "code",
   "execution_count": 35,
   "metadata": {},
   "outputs": [],
   "source": [
    "# Filtrer les tampons de 60 m uniquement\n",
    "reg = 'Maritime'\n",
    "\n",
    "#b = 120\n",
    "\n",
    "# Distances des tampons\n",
    "distances = [60,70,80]#, 70, 80, 90, 100,110,120]\n",
    "\n",
    "# Initialiser un GeoDataFrame pour stocker les résultats consolidés\n",
    "limites_admin_final = cantons[cantons['region_nom'] == reg].copy()\n",
    "\n",
    "# Initialiser une liste pour les résultats CSV consolidés\n",
    "csv_data = []"
   ]
  },
  {
   "cell_type": "code",
   "execution_count": null,
   "metadata": {},
   "outputs": [
    {
     "name": "stderr",
     "output_type": "stream",
     "text": [
      "c:\\Users\\hp\\anaconda3\\envs\\mm\\lib\\site-packages\\geopandas\\io\\file.py:362: FutureWarning: pandas.Int64Index is deprecated and will be removed from pandas in a future version. Use pandas.Index with the appropriate dtype instead.\n",
      "  pd.Int64Index,\n",
      "c:\\Users\\hp\\anaconda3\\envs\\mm\\lib\\site-packages\\geopandas\\io\\file.py:362: FutureWarning: pandas.Int64Index is deprecated and will be removed from pandas in a future version. Use pandas.Index with the appropriate dtype instead.\n",
      "  pd.Int64Index,\n",
      "c:\\Users\\hp\\anaconda3\\envs\\mm\\lib\\site-packages\\geopandas\\io\\file.py:362: FutureWarning: pandas.Int64Index is deprecated and will be removed from pandas in a future version. Use pandas.Index with the appropriate dtype instead.\n",
      "  pd.Int64Index,\n"
     ]
    }
   ],
   "source": [
    "for b in distances:\n",
    "    buffer = combined_buffer[combined_buffer[\"buffer_distance\"] == b].reset_index(drop=True)\n",
    "    buffer = buffer.drop(columns=['index_left', 'index_right'], errors='ignore')\n",
    "\n",
    "    #gdf_concessions_missing = gdf_concessions_missing.rename(columns={'geometry_concession': 'geometry'})\n",
    "\n",
    "    # Fusionner les deux GeoDataFrames (concessions_gdf et concessions_manquantes) en conservant les champs de concessions_gdf\n",
    "    #concessions_total = pd.concat(concession_gdf, ignore_index=True)\n",
    "    concessions_total = pd.concat([concession_gdf, gdf_concessions_missing], ignore_index=True)\n",
    "    concessions_total = concessions_total.drop(columns=['index_left', 'index_right'], errors='ignore')\n",
    "    concessions_total = gpd.GeoDataFrame(concessions_total, geometry='geometry', crs=concession_gdf.crs).reset_index(drop=True)\n",
    "\n",
    "\n",
    "    # Concessions dans le buffer\n",
    "    concessions_in_buffer = gpd.sjoin(concessions_total, buffer, how=\"inner\", predicate=\"within\")\n",
    "    concess_colonne = ['N_REGION', 'N_PREFECTURE', 'N_COMMUNE', 'N_CANTON', 'MILIEU', 'TAILLE', \n",
    "        'region_nom', 'prefecture_nom', 'commune_nom', 'canton_nom', 'buffer_distance']\n",
    "    \n",
    "    concess_buff_cant = concessions_in_buffer[concess_colonne].groupby('canton_nom').size().rename(f\"nb_concessions_{b}m\")\n",
    "\n",
    "\n",
    "    # Branchements dans la région actuelle\n",
    "    branchement_buff = branchements_gdf[branchements_gdf['region_nom'] == reg].groupby('canton_nom').size().rename(f\"nb_branchements_{b}m\")\n",
    " \n",
    "    # Ménages\n",
    "    menages_in_buffer = gpd.sjoin(menage_gdf, buffer, how=\"inner\", predicate=\"within\")\n",
    "    menage_colonne = ['N_REGION','N_PREFECTURE','N_COMMUNE','N_CANTON','MILIEU','TAILLE_MENAGE','region_nom','prefecture_nom','commune_nom','canton_nom','buffer_distance']\n",
    "    menages_buffer_cant =  menages_in_buffer[menage_colonne].groupby('canton_nom').size().rename(\"nb_menages\")\n",
    "\n",
    "    # Fusion des statistiques avec le GeoDataFrame des limites administratives\n",
    "    limites_admin_temp = limites_admin_final.copy()\n",
    "    limites_admin_temp = limites_admin_temp.merge(concess_buff_cant, on=\"canton_nom\", how=\"left\")\n",
    "    limites_admin_temp = limites_admin_temp.merge(branchement_buff, on=\"canton_nom\", how=\"left\")\n",
    "    limites_admin_temp = limites_admin_temp.merge(menages_buffer_cant, on=\"canton_nom\", how=\"left\")    \n",
    "\n",
    "\n",
    "    colonnes_a_ajouter = [\"nb_concessions\", \"nb_branchements\"]\n",
    "\n",
    "    # Sauvegarder le GeoDataFrame final dans un GeoPackage\n",
    "    output_gpkg = f\"limites_admin_stats_{reg}_{b}_menage.gpkg\"\n",
    "    limites_admin_temp.to_file(output_gpkg, driver=\"GPKG\")\n",
    "\n",
    "# Sauvegarder les données consolidées dans un CSV\n",
    "    output_csv = f\"limites_admin_stats_{reg}_{b}_menage.xlsx\"\n",
    "    limites_admin_temp.to_excel(output_csv, index=False)\n",
    "\n"
   ]
  },
  {
   "cell_type": "markdown",
   "metadata": {},
   "source": [
    "## Analyse de la distance entre un ménage connecté et le plus proche poteau BT"
   ]
  },
  {
   "cell_type": "code",
   "execution_count": 54,
   "metadata": {},
   "outputs": [],
   "source": [
    "# Filtrer les ménages en fonction de la valeur du champ 'H08_Impute'\n",
    "filtered_menages = menages_in_buffer[menages_in_buffer[\"H08_Impute\"].isin([    \"Electricité (CEET) compteur dans la concession\" ]   ) ]\n",
    "\n",
    "poteau_jointure = poteaux_gdf[['id_support','geometry']]\n",
    "\n",
    "# Utilisation de sjoin_nearest pour trouver le support BT le plus proche\n",
    "# Cette opération va joindre chaque ménage avec le poteau le plus proche et calculer la distance\n",
    "nearest_poteaux = gpd.sjoin_nearest(\n",
    "    filtered_menages[['ID_HHFtth','ID_RGPH','geometry']], \n",
    "    poteau_jointure, \n",
    "    how=\"left\", \n",
    "    distance_col=\"distance_to_nearest_support\",  # Ajouter une colonne pour la distance\n",
    "    max_distance=None  # On peut spécifier une distance maximale, sinon laisser None pour tout considérer\n",
    ")\n",
    "\n",
    "# Extraire les distances\n",
    "distances = nearest_poteaux['distance_to_nearest_support']\n",
    "\n",
    "\n",
    "#print(f\"Percentiles des distances : 0.9 = {percentiles[0]}, 0.95 = {percentiles[1]}, 0.99 = {percentiles[2]}\")\n"
   ]
  },
  {
   "cell_type": "code",
   "execution_count": 59,
   "metadata": {},
   "outputs": [
    {
     "data": {
      "text/plain": [
       "array([ 26.5,  32.5,  46.4,  53.5,  61.4,  81.8, 116.3])"
      ]
     },
     "execution_count": 59,
     "metadata": {},
     "output_type": "execute_result"
    }
   ],
   "source": [
    "# Calcul des percentiles 0.9, 0.95, 0.99\n",
    "percentiles = np.round(np.percentile(distances, [50, 60,  75, 80, 84, 90, 95]),1)\n",
    "percentiles"
   ]
  },
  {
   "cell_type": "code",
   "execution_count": 62,
   "metadata": {},
   "outputs": [
    {
     "data": {
      "image/png": "[encoded data removed]",
      "text/plain": [
       "<Figure size 432x288 with 1 Axes>"
      ]
     },
     "metadata": {
      "needs_background": "light"
     },
     "output_type": "display_data"
    }
   ],
   "source": [
    "import matplotlib.pyplot as plt\n",
    "\n",
    "\n",
    "# Créer les tranches de distances (par pas de 5 mètres)\n",
    "bins = np.arange(0, distances.max() + 5, 5)  # Tranches de 5 mètres\n",
    "hist, bin_edges = np.histogram(distances, bins=bins)  # Histogramme simple\n",
    "\n",
    "# Calculer les effectifs cumulés\n",
    "cumulative_effectifs = np.cumsum(hist)\n",
    "\n",
    "# Calculer les percentiles\n",
    "percentiles = [75, 80,85, 90]\n",
    "percentile_values = np.percentile(distances, percentiles)\n",
    "\n",
    "# Créer le graphique\n",
    "plt.bar(bin_edges[:-1], cumulative_effectifs, width=5, align='edge', color='skyblue', label=\"Effectifs cumulés\")\n",
    "\n",
    "# Ajouter les lignes verticales pour les percentiles\n",
    "for p, value in zip(percentiles, percentile_values):\n",
    "    plt.axvline(value, color='red', linestyle='--', label=f\"{p}ᵉ percentile: {value:.1f} m\")\n",
    "\n",
    "# Personnaliser le graphique\n",
    "plt.title(\"Histogramme des effectifs cumulés par tranches de distances - région Kara\")\n",
    "plt.xlabel(\"Distance (m)\")\n",
    "plt.ylabel(\"Effectifs cumulés\")\n",
    "plt.grid(axis='y', linestyle='--', alpha=0.7)\n",
    "plt.legend()\n",
    "plt.show()"
   ]
  },
  {
   "cell_type": "code",
   "execution_count": 46,
   "metadata": {},
   "outputs": [
    {
     "data": {
      "text/plain": [
       "array([ 33.26690457,  41.89897898,  59.7140481 ,  68.77389568,\n",
       "        79.47473445, 102.46292449])"
      ]
     },
     "execution_count": 46,
     "metadata": {},
     "output_type": "execute_result"
    }
   ],
   "source": [
    "# Calculer les percentiles\n",
    "percentiles = [50,60,75, 80,84, 90]\n",
    "percentile_values = np.percentile(distances, percentiles)\n",
    "percentile_values "
   ]
  }
 ],
 "metadata": {
  "kernelspec": {
   "display_name": "mm",
   "language": "python",
   "name": "python3"
  },
  "language_info": {
   "codemirror_mode": {
    "name": "ipython",
    "version": 3
   },
   "file_extension": ".py",
   "mimetype": "text/x-python",
   "name": "python",
   "nbconvert_exporter": "python",
   "pygments_lexer": "ipython3",
   "version": "3.9.9"
  }
 },
 "nbformat": 4,
 "nbformat_minor": 2
}
